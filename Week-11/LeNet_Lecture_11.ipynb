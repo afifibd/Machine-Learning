{
  "nbformat": 4,
  "nbformat_minor": 0,
  "metadata": {
    "colab": {
      "provenance": [],
      "authorship_tag": "ABX9TyPv3+xWWBerSu3QBRvOSxhe",
      "include_colab_link": true
    },
    "kernelspec": {
      "name": "python3",
      "display_name": "Python 3"
    },
    "language_info": {
      "name": "python"
    }
  },
  "cells": [
    {
      "cell_type": "markdown",
      "metadata": {
        "id": "view-in-github",
        "colab_type": "text"
      },
      "source": [
        "<a href=\"https://colab.research.google.com/github/afifibd/Machine-Learning/blob/main/Week-11/LeNet_Lecture_11.ipynb\" target=\"_parent\"><img src=\"https://colab.research.google.com/assets/colab-badge.svg\" alt=\"Open In Colab\"/></a>"
      ]
    },
    {
      "cell_type": "markdown",
      "source": [
        "Nama: Afif Ibadurrahman J\n",
        "\n",
        "NIM: 1103210221\n",
        "\n",
        "Lecture : 11\n",
        "\n",
        "Model: LeNet"
      ],
      "metadata": {
        "id": "TtIEPWqJy2k6"
      }
    },
    {
      "cell_type": "markdown",
      "source": [
        "LeNet adalah arsitektur jaringan saraf tiruan (neural network) yang diperkenalkan oleh Yann LeCun dan rekan-rekannya pada akhir 1980-an dan awal 1990-an. Arsitektur ini merupakan salah satu jaringan konvolusional (Convolutional Neural Network atau CNN) pertama yang berhasil digunakan dalam aplikasi nyata, khususnya dalam pengenalan tulisan tangan.\n",
        "\n",
        "LeNet awalnya dikembangkan untuk mengenali digit tulisan tangan dalam gambar yang merupakan bagian dari dataset MNIST. Beberapa karakteristik utama dari LeNet meliputi:\n",
        "\n",
        "1. **Lapisan Konvolusi (Convolutional Layers)**: Lapisan ini bertugas untuk mengekstrak fitur dari input gambar dengan mengaplikasikan filter (kernel) pada gambar tersebut.\n",
        "2. **Lapisan Pooling/Subsampling**: Lapisan ini berfungsi untuk mengurangi dimensi spasial dari fitur yang dihasilkan oleh lapisan konvolusi, biasanya dengan menggunakan operasi max pooling atau average pooling.\n",
        "3. **Lapisan Fully Connected**: Setelah beberapa lapisan konvolusi dan pooling, lapisan ini menghubungkan semua neuron dari lapisan sebelumnya ke semua neuron di lapisan berikutnya, seperti pada jaringan saraf tiruan klasik (feedforward neural network).\n",
        "4. **Lapisan Output**: Lapisan ini menghasilkan output akhir dari jaringan, misalnya probabilitas dari setiap kelas pada masalah klasifikasi.\n",
        "\n",
        "Arsitektur LeNet telah menjadi dasar bagi banyak perkembangan selanjutnya dalam jaringan saraf konvolusional dan terus digunakan sebagai referensi dalam penelitian dan pengajaran tentang deep learning."
      ],
      "metadata": {
        "id": "1PV5oP3w0KHS"
      }
    },
    {
      "cell_type": "markdown",
      "source": [
        "# Memuat Library"
      ],
      "metadata": {
        "id": "tuG6XKjt0Ylv"
      }
    },
    {
      "cell_type": "code",
      "execution_count": 1,
      "metadata": {
        "id": "K_9Z_tHayxyA"
      },
      "outputs": [],
      "source": [
        "# Import Library yang diperlukan\n",
        "import keras\n",
        "from keras.datasets import mnist\n",
        "from keras.layers import Conv2D, MaxPooling2D\n",
        "from keras.layers import Dense, Flatten\n",
        "from keras.models import Sequential\n",
        "import matplotlib.pyplot as plt\n",
        "import numpy as np"
      ]
    },
    {
      "cell_type": "markdown",
      "source": [
        "# Memuat Dataset"
      ],
      "metadata": {
        "id": "resJvhNz0eK8"
      }
    },
    {
      "cell_type": "code",
      "source": [
        "# Memuat Dataset dan melakukan Pemisahan Dataset (Train & Testing)\n",
        "(x_train, y_train), (x_test, y_test) = mnist.load_data()"
      ],
      "metadata": {
        "colab": {
          "base_uri": "https://localhost:8080/"
        },
        "id": "OVrQLDtX0fGU",
        "outputId": "5efc2f0a-49ed-4403-f9b6-f1e2236e85e3"
      },
      "execution_count": 2,
      "outputs": [
        {
          "output_type": "stream",
          "name": "stdout",
          "text": [
            "Downloading data from https://storage.googleapis.com/tensorflow/tf-keras-datasets/mnist.npz\n",
            "11490434/11490434 [==============================] - 0s 0us/step\n"
          ]
        }
      ]
    },
    {
      "cell_type": "markdown",
      "source": [
        "# Pra-Prosesan"
      ],
      "metadata": {
        "id": "HfliyfsO0h0I"
      }
    },
    {
      "cell_type": "code",
      "source": [
        "# Menjalankan Operasi Reshape\n",
        "x_train = x_train.reshape(x_train.shape[0], 28, 28, 1)\n",
        "x_test = x_test.reshape(x_test.shape[0], 28, 28, 1)\n",
        "\n",
        "# Normalisasi\n",
        "x_train = x_train / 255\n",
        "x_test = x_test / 255\n",
        "\n",
        "# One Hot Encoding\n",
        "y_train = keras.utils.to_categorical(y_train, 10)\n",
        "y_test = keras.utils.to_categorical(y_test, 10)"
      ],
      "metadata": {
        "id": "iLXQsI5O0lnG"
      },
      "execution_count": 3,
      "outputs": []
    },
    {
      "cell_type": "markdown",
      "source": [
        "# Arsitektur LeNet"
      ],
      "metadata": {
        "id": "Rr3THjFL0oeg"
      }
    },
    {
      "cell_type": "code",
      "source": [
        "# Membangun Arsitektur Model\n",
        "model = Sequential()\n",
        "model.add(Conv2D(6, kernel_size=(5, 5), activation='relu', input_shape=(28, 28, 1)))\n",
        "model.add(MaxPooling2D(pool_size=(2, 2)))\n",
        "model.add(Conv2D(16, kernel_size=(5, 5), activation='relu'))\n",
        "model.add(MaxPooling2D(pool_size=(2, 2)))\n",
        "model.add(Flatten())\n",
        "model.add(Dense(120, activation='relu'))\n",
        "model.add(Dense(84, activation='relu'))\n",
        "model.add(Dense(10, activation='softmax'))"
      ],
      "metadata": {
        "id": "ZuAvYi320rcA"
      },
      "execution_count": 4,
      "outputs": []
    },
    {
      "cell_type": "markdown",
      "source": [
        "# Melatih Model"
      ],
      "metadata": {
        "id": "6BJ9BHKJ09Ms"
      }
    },
    {
      "cell_type": "code",
      "source": [
        "model.compile(loss=keras.metrics.categorical_crossentropy, optimizer=keras.optimizers.Adam(), metrics=['accuracy'])"
      ],
      "metadata": {
        "id": "PZiERXac0_II"
      },
      "execution_count": 6,
      "outputs": []
    },
    {
      "cell_type": "code",
      "source": [
        "history = model.fit(x_train, y_train, batch_size=360, epochs=20, verbose=1, validation_data=(x_test, y_test))"
      ],
      "metadata": {
        "colab": {
          "base_uri": "https://localhost:8080/"
        },
        "id": "9BxYiOBC1rQE",
        "outputId": "5c48b60b-c096-4cbf-a1c3-ae041641ea87"
      },
      "execution_count": 7,
      "outputs": [
        {
          "output_type": "stream",
          "name": "stdout",
          "text": [
            "Epoch 1/20\n",
            "167/167 [==============================] - 26s 142ms/step - loss: 0.5763 - accuracy: 0.8289 - val_loss: 0.1914 - val_accuracy: 0.9406\n",
            "Epoch 2/20\n",
            "167/167 [==============================] - 20s 119ms/step - loss: 0.1590 - accuracy: 0.9516 - val_loss: 0.1072 - val_accuracy: 0.9692\n",
            "Epoch 3/20\n",
            "167/167 [==============================] - 22s 135ms/step - loss: 0.1062 - accuracy: 0.9670 - val_loss: 0.0902 - val_accuracy: 0.9728\n",
            "Epoch 4/20\n",
            "167/167 [==============================] - 22s 130ms/step - loss: 0.0815 - accuracy: 0.9746 - val_loss: 0.0616 - val_accuracy: 0.9816\n",
            "Epoch 5/20\n",
            "167/167 [==============================] - 23s 139ms/step - loss: 0.0650 - accuracy: 0.9799 - val_loss: 0.0514 - val_accuracy: 0.9838\n",
            "Epoch 6/20\n",
            "167/167 [==============================] - 25s 150ms/step - loss: 0.0575 - accuracy: 0.9823 - val_loss: 0.0495 - val_accuracy: 0.9844\n",
            "Epoch 7/20\n",
            "167/167 [==============================] - 20s 117ms/step - loss: 0.0487 - accuracy: 0.9852 - val_loss: 0.0471 - val_accuracy: 0.9845\n",
            "Epoch 8/20\n",
            "167/167 [==============================] - 25s 148ms/step - loss: 0.0432 - accuracy: 0.9867 - val_loss: 0.0415 - val_accuracy: 0.9872\n",
            "Epoch 9/20\n",
            "167/167 [==============================] - 35s 210ms/step - loss: 0.0398 - accuracy: 0.9876 - val_loss: 0.0450 - val_accuracy: 0.9858\n",
            "Epoch 10/20\n",
            "167/167 [==============================] - 24s 145ms/step - loss: 0.0343 - accuracy: 0.9894 - val_loss: 0.0431 - val_accuracy: 0.9862\n",
            "Epoch 11/20\n",
            "167/167 [==============================] - 22s 131ms/step - loss: 0.0313 - accuracy: 0.9901 - val_loss: 0.0405 - val_accuracy: 0.9885\n",
            "Epoch 12/20\n",
            "167/167 [==============================] - 19s 116ms/step - loss: 0.0292 - accuracy: 0.9906 - val_loss: 0.0403 - val_accuracy: 0.9872\n",
            "Epoch 13/20\n",
            "167/167 [==============================] - 21s 127ms/step - loss: 0.0249 - accuracy: 0.9923 - val_loss: 0.0414 - val_accuracy: 0.9873\n",
            "Epoch 14/20\n",
            "167/167 [==============================] - 19s 117ms/step - loss: 0.0237 - accuracy: 0.9922 - val_loss: 0.0476 - val_accuracy: 0.9858\n",
            "Epoch 15/20\n",
            "167/167 [==============================] - 22s 129ms/step - loss: 0.0211 - accuracy: 0.9931 - val_loss: 0.0420 - val_accuracy: 0.9876\n",
            "Epoch 16/20\n",
            "167/167 [==============================] - 20s 120ms/step - loss: 0.0202 - accuracy: 0.9937 - val_loss: 0.0413 - val_accuracy: 0.9887\n",
            "Epoch 17/20\n",
            "167/167 [==============================] - 21s 124ms/step - loss: 0.0173 - accuracy: 0.9945 - val_loss: 0.0405 - val_accuracy: 0.9886\n",
            "Epoch 18/20\n",
            "167/167 [==============================] - 21s 124ms/step - loss: 0.0161 - accuracy: 0.9949 - val_loss: 0.0425 - val_accuracy: 0.9873\n",
            "Epoch 19/20\n",
            "167/167 [==============================] - 21s 127ms/step - loss: 0.0153 - accuracy: 0.9949 - val_loss: 0.0434 - val_accuracy: 0.9871\n",
            "Epoch 20/20\n",
            "167/167 [==============================] - 21s 126ms/step - loss: 0.0130 - accuracy: 0.9960 - val_loss: 0.0413 - val_accuracy: 0.9877\n"
          ]
        }
      ]
    },
    {
      "cell_type": "markdown",
      "source": [
        "# Evaluasi Model"
      ],
      "metadata": {
        "id": "amti5_9z16w-"
      }
    },
    {
      "cell_type": "code",
      "source": [
        "score = model.evaluate(x_test, y_test)\n",
        "print('Test Loss:', score[0])\n",
        "print('Test accuracy:', score[1])"
      ],
      "metadata": {
        "colab": {
          "base_uri": "https://localhost:8080/"
        },
        "id": "QgygFEU21_4q",
        "outputId": "41e637a3-35d0-42bf-8510-8f6eaf23f924"
      },
      "execution_count": 8,
      "outputs": [
        {
          "output_type": "stream",
          "name": "stdout",
          "text": [
            "313/313 [==============================] - 2s 6ms/step - loss: 0.0413 - accuracy: 0.9877\n",
            "Test Loss: 0.041303861886262894\n",
            "Test accuracy: 0.9876999855041504\n"
          ]
        }
      ]
    },
    {
      "cell_type": "code",
      "source": [
        "# Total data training\n",
        "total_train_data = len(x_train)\n",
        "# Total data testing\n",
        "total_test_data = len(x_test)\n",
        "\n",
        "print(\"Total data training set:\", total_train_data)\n",
        "print(\"Total data testing set:\", total_test_data)"
      ],
      "metadata": {
        "colab": {
          "base_uri": "https://localhost:8080/"
        },
        "id": "xn4iXmwa2H2D",
        "outputId": "72fb1eec-2196-46df-ad23-254e55f0679d"
      },
      "execution_count": 9,
      "outputs": [
        {
          "output_type": "stream",
          "name": "stdout",
          "text": [
            "Total data training set: 60000\n",
            "Total data testing set: 10000\n"
          ]
        }
      ]
    },
    {
      "cell_type": "code",
      "source": [
        "# Predictions on training data\n",
        "train_predictions = model.predict(x_train)\n",
        "train_correct = sum([1 for i in range(len(train_predictions)) if np.argmax(train_predictions[i]) == np.argmax(y_train[i])])\n",
        "\n",
        "# Predictions on testing data\n",
        "test_predictions = model.predict(x_test)\n",
        "test_correct = sum([1 for i in range(len(test_predictions)) if np.argmax(test_predictions[i]) == np.argmax(y_test[i])])\n",
        "\n",
        "print(\"Total correct predictions training data:\", train_correct)\n",
        "print(\"Total correct predictions testing data:\", test_correct)"
      ],
      "metadata": {
        "colab": {
          "base_uri": "https://localhost:8080/"
        },
        "id": "JLROIKN12UDP",
        "outputId": "344ad3b3-19c6-4a17-ce32-0071f2a8a564"
      },
      "execution_count": 11,
      "outputs": [
        {
          "output_type": "stream",
          "name": "stdout",
          "text": [
            "1875/1875 [==============================] - 12s 6ms/step\n",
            "313/313 [==============================] - 2s 5ms/step\n",
            "Total correct predictions training data: 59725\n",
            "Total correct predictions testing data: 9877\n"
          ]
        }
      ]
    },
    {
      "cell_type": "markdown",
      "source": [
        "# Visualisasi Model"
      ],
      "metadata": {
        "id": "4Ht0Fns92XeB"
      }
    },
    {
      "cell_type": "code",
      "source": [
        "# Plotting model accuracy\n",
        "plt.plot(history.history['accuracy'])\n",
        "plt.plot(history.history['val_accuracy'])\n",
        "plt.title('Model Accuracy')\n",
        "plt.ylabel('Accuracy')\n",
        "plt.xlabel('Epoch')\n",
        "plt.legend(['Train', 'Test'], loc='upper left')\n",
        "plt.show()\n",
        "\n",
        "# Plotting model loss\n",
        "plt.plot(history.history['loss'])\n",
        "plt.plot(history.history['val_loss'])\n",
        "plt.title('Model Loss')\n",
        "plt.ylabel('Loss')\n",
        "plt.xlabel('Epoch')\n",
        "plt.legend(['Train', 'Test'], loc='upper right')\n",
        "plt.show()"
      ],
      "metadata": {
        "colab": {
          "base_uri": "https://localhost:8080/",
          "height": 927
        },
        "id": "_0w25bEA2bDv",
        "outputId": "bd753ab3-4d2b-40f8-af4c-f3b82b76d36b"
      },
      "execution_count": 10,
      "outputs": [
        {
          "output_type": "display_data",
          "data": {
            "text/plain": [
              "<Figure size 640x480 with 1 Axes>"
            ],
            "image/png": "[encoded data removed]"
          },
          "metadata": {}
        },
        {
          "output_type": "display_data",
          "data": {
            "text/plain": [
              "<Figure size 640x480 with 1 Axes>"
            ],
            "image/png": "[encoded data removed]"
          },
          "metadata": {}
        }
      ]
    }
  ]
}